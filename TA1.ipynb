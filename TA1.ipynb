{
  "nbformat": 4,
  "nbformat_minor": 0,
  "metadata": {
    "colab": {
      "provenance": [],
      "mount_file_id": "1y0YyOLiNDMVV3UO5nuZ003Q4kT3m2PoF",
      "authorship_tag": "ABX9TyMTwA/Q/2eJ7sGV6pye0BUq",
      "include_colab_link": true
    },
    "kernelspec": {
      "name": "python3",
      "display_name": "Python 3"
    },
    "language_info": {
      "name": "python"
    }
  },
  "cells": [
    {
      "cell_type": "markdown",
      "metadata": {
        "id": "view-in-github",
        "colab_type": "text"
      },
      "source": [
        "<a href=\"https://colab.research.google.com/github/ayush-142005/ApnaCollegepart1/blob/main/TA1.ipynb\" target=\"_parent\"><img src=\"https://colab.research.google.com/assets/colab-badge.svg\" alt=\"Open In Colab\"/></a>"
      ]
    },
    {
      "cell_type": "markdown",
      "source": [
        "# Question 1"
      ],
      "metadata": {
        "id": "gvWL_3vaqkix"
      }
    },
    {
      "cell_type": "code",
      "source": [
        "import pandas as pd\n",
        "import numpy as np"
      ],
      "metadata": {
        "id": "PSGxJuHPkHbj"
      },
      "execution_count": null,
      "outputs": []
    },
    {
      "cell_type": "code",
      "source": [
        "path=\"/content/drive/MyDrive/health/complete (1).csv\"\n",
        "df=pd.read_csv(path)\n",
        "print(df.head())"
      ],
      "metadata": {
        "colab": {
          "base_uri": "https://localhost:8080/"
        },
        "id": "HHMYkvOolmTd",
        "outputId": "2758f541-ec9a-4c80-a2f6-45d65e4333a0"
      },
      "execution_count": null,
      "outputs": [
        {
          "output_type": "stream",
          "name": "stdout",
          "text": [
            "         Date Name of State / UT  Latitude  Longitude  Total Confirmed cases  \\\n",
            "0  2020-01-30             Kerala   10.8505    76.2711                    1.0   \n",
            "1  2020-01-31             Kerala   10.8505    76.2711                    1.0   \n",
            "2  2020-02-01             Kerala   10.8505    76.2711                    2.0   \n",
            "3  2020-02-02             Kerala   10.8505    76.2711                    3.0   \n",
            "4  2020-02-03             Kerala   10.8505    76.2711                    3.0   \n",
            "\n",
            "  Death  Cured/Discharged/Migrated  New cases  New deaths  New recovered  \n",
            "0     0                        0.0          0           0              0  \n",
            "1     0                        0.0          0           0              0  \n",
            "2     0                        0.0          1           0              0  \n",
            "3     0                        0.0          1           0              0  \n",
            "4     0                        0.0          0           0              0  \n"
          ]
        }
      ]
    },
    {
      "cell_type": "code",
      "source": [
        "s1=mean_t=df['Total Confirmed cases'].mean()\n",
        "s2=median_t=df['Total Confirmed cases'].median()\n",
        "s3=std_t=df['Total Confirmed cases'].std()\n",
        "print(f\"Mean Total cases is {s1}\")\n",
        "print(f\"Median Total cases is {s2}\")\n",
        "print(f\"Standard Deviation is {s3}\")"
      ],
      "metadata": {
        "colab": {
          "base_uri": "https://localhost:8080/"
        },
        "id": "-UUXQv2Kmc9y",
        "outputId": "a12e2825-103d-4742-cd73-0ff4a1114152"
      },
      "execution_count": null,
      "outputs": [
        {
          "output_type": "stream",
          "name": "stdout",
          "text": [
            "Mean Total cases is 11393.925191815857\n",
            "Median Total cases is 619.0\n",
            "Standard Deviation is 37208.60084622722\n"
          ]
        }
      ]
    },
    {
      "cell_type": "code",
      "source": [],
      "metadata": {
        "id": "-3NMVCaM7rgJ"
      },
      "execution_count": null,
      "outputs": []
    },
    {
      "cell_type": "markdown",
      "source": [
        "# Question 2"
      ],
      "metadata": {
        "id": "-UiRtlrJqrDq"
      }
    },
    {
      "cell_type": "code",
      "source": [
        "# R programming\n",
        "data1<-read.csv(\"/content/drive/MyDrive/health/unemployment.csv\")\n",
        "str(data1)"
      ],
      "metadata": {
        "colab": {
          "base_uri": "https://localhost:8080/"
        },
        "id": "1CzWcuSaplkD",
        "outputId": "1a1c5881-157e-4b4e-c149-ea560ee709b7"
      },
      "execution_count": null,
      "outputs": [
        {
          "output_type": "stream",
          "name": "stdout",
          "text": [
            "'data.frame':\t267 obs. of  9 variables:\n",
            " $ Region                                 : chr  \"Andhra Pradesh\" \"Andhra Pradesh\" \"Andhra Pradesh\" \"Andhra Pradesh\" ...\n",
            " $ Date                                   : chr  \" 31-01-2020\" \" 29-02-2020\" \" 31-03-2020\" \" 30-04-2020\" ...\n",
            " $ Frequency                              : chr  \" M\" \" M\" \" M\" \" M\" ...\n",
            " $ Estimated.Unemployment.Rate....        : num  5.48 5.83 5.79 20.51 17.43 ...\n",
            " $ Estimated.Employed                     : int  16635535 16545652 15881197 11336911 12988845 19805400 15431615 15251776 15220312 15157557 ...\n",
            " $ Estimated.Labour.Participation.Rate....: num  41 40.9 39.2 33.1 36.5 ...\n",
            " $ Region.1                               : chr  \"South\" \"South\" \"South\" \"South\" ...\n",
            " $ longitude                              : num  15.9 15.9 15.9 15.9 15.9 ...\n",
            " $ latitude                               : num  79.7 79.7 79.7 79.7 79.7 ...\n"
          ]
        }
      ]
    },
    {
      "cell_type": "code",
      "source": [
        "mean1<-mean(data1$math_score)\n",
        "median1<-median(data1$math_score)\n",
        "std<-sd(data1$math_score)\n",
        "\n",
        "r1<-mean(data1$reading_score)\n",
        "r2<-median(data1$reading_score)\n",
        "r3<-sd(data1$reading_score)\n",
        "\n",
        "w1<-mean(data1$writing_score)\n",
        "w2<-median(data1$writing_score)\n",
        "w3<-sd(data1$writing_score)\n",
        "\n",
        "print(paste(\"Mean :\",mean1,\"Median :\",median1,\"standard diviation\",std))\n"
      ],
      "metadata": {
        "colab": {
          "base_uri": "https://localhost:8080/"
        },
        "id": "uWU-VsTuxidy",
        "outputId": "8039546c-e52e-42d1-c6b7-7439e3cbfcd8"
      },
      "execution_count": null,
      "outputs": [
        {
          "output_type": "stream",
          "name": "stderr",
          "text": [
            "Warning message in mean.default(data1$math_score):\n",
            "“argument is not numeric or logical: returning NA”\n"
          ]
        }
      ]
    },
    {
      "cell_type": "code",
      "source": [],
      "metadata": {
        "id": "YiYYEyN-xzHe"
      },
      "execution_count": null,
      "outputs": []
    },
    {
      "cell_type": "markdown",
      "source": [
        "# Question 3"
      ],
      "metadata": {
        "id": "KVUdxYIv8t7T"
      }
    },
    {
      "cell_type": "code",
      "source": [
        "import numpy as np\n",
        "import pandas as pd\n",
        "e_data=pd.read_excel(\"/content/drive/MyDrive/health/employees.xlsx\")\n",
        "print(e_data.head(5))"
      ],
      "metadata": {
        "colab": {
          "base_uri": "https://localhost:8080/"
        },
        "id": "M4cbxFDj9AtQ",
        "outputId": "2ee218a2-10cd-49e3-9091-5ff72fc4ed6a"
      },
      "execution_count": null,
      "outputs": [
        {
          "output_type": "stream",
          "name": "stdout",
          "text": [
            "   EMPLOYEE_ID FIRST_NAME  LAST_NAME     EMAIL  PHONE_NUMBER  HIRE_DATE  \\\n",
            "0          198     Donald   OConnell  DOCONNEL  650.507.9833 2007-06-21   \n",
            "1          199    Douglas      Grant    DGRANT  650.507.9844 2008-01-13   \n",
            "2          200   Jennifer     Whalen   JWHALEN  515.123.4444 2003-09-17   \n",
            "3          201    Michael  Hartstein  MHARTSTE  515.123.5555 2004-02-17   \n",
            "4          202        Pat        Fay      PFAY  603.123.6666 2005-08-17   \n",
            "\n",
            "     JOB_ID  SALARY COMMISSION_PCT MANAGER_ID  DEPARTMENT_ID  \n",
            "0  SH_CLERK    2600             -         124             50  \n",
            "1  SH_CLERK    2600             -         124             50  \n",
            "2   AD_ASST    4400             -         101             10  \n",
            "3    MK_MAN   13000             -         100             20  \n",
            "4    MK_REP    6000             -         201             20  \n"
          ]
        }
      ]
    },
    {
      "cell_type": "code",
      "source": [
        "e_data.dropna(inplace=True)\n",
        "print(e_data)"
      ],
      "metadata": {
        "colab": {
          "base_uri": "https://localhost:8080/"
        },
        "id": "Xt3gcywM-lNa",
        "outputId": "779ee4ce-ee46-4221-8071-d66ba1758275"
      },
      "execution_count": null,
      "outputs": [
        {
          "output_type": "stream",
          "name": "stdout",
          "text": [
            "    EMPLOYEE_ID   FIRST_NAME    LAST_NAME     EMAIL  PHONE_NUMBER  HIRE_DATE  \\\n",
            "0           198       Donald     OConnell  DOCONNEL  650.507.9833 2007-06-21   \n",
            "1           199      Douglas        Grant    DGRANT  650.507.9844 2008-01-13   \n",
            "2           200     Jennifer       Whalen   JWHALEN  515.123.4444 2003-09-17   \n",
            "3           201      Michael    Hartstein  MHARTSTE  515.123.5555 2004-02-17   \n",
            "4           202          Pat          Fay      PFAY  603.123.6666 2005-08-17   \n",
            "5           203        Susan       Mavris   SMAVRIS  515.123.7777 2002-06-07   \n",
            "6           204      Hermann         Baer     HBAER  515.123.8888 2002-06-07   \n",
            "7           205      Shelley      Higgins  SHIGGINS  515.123.8080 2002-06-07   \n",
            "8           206      William        Gietz    WGIETZ  515.123.8181 2002-06-07   \n",
            "9           100       Steven         King     SKING  515.123.4567 2003-06-17   \n",
            "10          101        Neena      Kochhar  NKOCHHAR  515.123.4568 2005-09-21   \n",
            "11          102          Lex      De Haan   LDEHAAN  515.123.4569 2001-01-13   \n",
            "12          103    Alexander       Hunold   AHUNOLD  590.423.4567 2006-01-03   \n",
            "13          104        Bruce        Ernst    BERNST  590.423.4568 2007-05-21   \n",
            "14          105        David       Austin   DAUSTIN  590.423.4569 2005-06-25   \n",
            "15          106        Valli    Pataballa  VPATABAL  590.423.4560 2006-02-05   \n",
            "16          107        Diana      Lorentz  DLORENTZ  590.423.5567 2007-02-07   \n",
            "17          108        Nancy    Greenberg  NGREENBE  515.124.4569 2002-08-17   \n",
            "18          109       Daniel       Faviet   DFAVIET  515.124.4169 2002-08-16   \n",
            "19          110         John         Chen     JCHEN  515.124.4269 2005-09-28   \n",
            "20          111       Ismael      Sciarra  ISCIARRA  515.124.4369 2005-09-30   \n",
            "21          112  Jose Manuel        Urman   JMURMAN  515.124.4469 2006-03-07   \n",
            "22          113         Luis         Popp     LPOPP  515.124.4567 2007-12-07   \n",
            "23          114          Den     Raphaely  DRAPHEAL  515.127.4561 2002-12-07   \n",
            "24          115    Alexander         Khoo     AKHOO  515.127.4562 2003-05-18   \n",
            "25          116       Shelli        Baida    SBAIDA  515.127.4563 2005-12-24   \n",
            "26          117        Sigal       Tobias   STOBIAS  515.127.4564 2005-07-24   \n",
            "27          118          Guy       Himuro   GHIMURO  515.127.4565 2006-11-15   \n",
            "28          119        Karen   Colmenares  KCOLMENA  515.127.4566 2007-08-10   \n",
            "29          120      Matthew        Weiss    MWEISS  650.123.1234 2004-07-18   \n",
            "30          121         Adam        Fripp    AFRIPP  650.123.2234 2005-04-10   \n",
            "31          122        Payam     Kaufling  PKAUFLIN  650.123.3234 2003-05-01   \n",
            "32          123       Shanta      Vollman  SVOLLMAN  650.123.4234 2005-10-10   \n",
            "33          124        Kevin      Mourgos  KMOURGOS  650.123.5234 2007-11-16   \n",
            "34          125        Julia        Nayer    JNAYER  650.124.1214 2005-07-16   \n",
            "35          126        Irene  Mikkilineni  IMIKKILI  650.124.1224 2006-09-28   \n",
            "36          127        James       Landry   JLANDRY  650.124.1334 2007-01-14   \n",
            "37          128       Steven       Markle   SMARKLE  650.124.1434 2008-03-08   \n",
            "38          129        Laura       Bissot   LBISSOT  650.124.5234 2005-08-20   \n",
            "39          130        Mozhe     Atkinson  MATKINSO  650.124.6234 2005-10-30   \n",
            "40          131        James       Marlow   JAMRLOW  650.124.7234 2005-02-16   \n",
            "41          132           TJ        Olson   TJOLSON  650.124.8234 2007-04-10   \n",
            "42          133        Jason       Mallin   JMALLIN  650.127.1934 2004-06-14   \n",
            "43          134      Michael       Rogers   MROGERS  650.127.1834 2006-08-26   \n",
            "44          135           Ki          Gee      KGEE  650.127.1734 2007-12-12   \n",
            "45          136        Hazel   Philtanker  HPHILTAN  650.127.1634 2008-02-06   \n",
            "46          137       Renske       Ladwig   RLADWIG  650.121.1234 2003-07-14   \n",
            "47          138      Stephen       Stiles   SSTILES  650.121.2034 2005-10-26   \n",
            "48          139         John          Seo      JSEO  650.121.2019 2006-02-12   \n",
            "49          140       Joshua        Patel    JPATEL  650.121.1834 2006-04-06   \n",
            "\n",
            "        JOB_ID  SALARY COMMISSION_PCT MANAGER_ID  DEPARTMENT_ID  \n",
            "0     SH_CLERK    2600             -         124             50  \n",
            "1     SH_CLERK    2600             -         124             50  \n",
            "2      AD_ASST    4400             -         101             10  \n",
            "3       MK_MAN   13000             -         100             20  \n",
            "4       MK_REP    6000             -         201             20  \n",
            "5       HR_REP    6500             -         101             40  \n",
            "6       PR_REP   10000             -         101             70  \n",
            "7       AC_MGR   12008             -         101            110  \n",
            "8   AC_ACCOUNT    8300             -         205            110  \n",
            "9      AD_PRES   24000             -          -              90  \n",
            "10       AD_VP   17000             -         100             90  \n",
            "11       AD_VP   17000             -         100             90  \n",
            "12     IT_PROG    9000             -         102             60  \n",
            "13     IT_PROG    6000             -         103             60  \n",
            "14     IT_PROG    4800             -         103             60  \n",
            "15     IT_PROG    4800             -         103             60  \n",
            "16     IT_PROG    4200             -         103             60  \n",
            "17      FI_MGR   12008             -         101            100  \n",
            "18  FI_ACCOUNT    9000             -         108            100  \n",
            "19  FI_ACCOUNT    8200             -         108            100  \n",
            "20  FI_ACCOUNT    7700             -         108            100  \n",
            "21  FI_ACCOUNT    7800             -         108            100  \n",
            "22  FI_ACCOUNT    6900             -         108            100  \n",
            "23      PU_MAN   11000             -         100             30  \n",
            "24    PU_CLERK    3100             -         114             30  \n",
            "25    PU_CLERK    2900             -         114             30  \n",
            "26    PU_CLERK    2800             -         114             30  \n",
            "27    PU_CLERK    2600             -         114             30  \n",
            "28    PU_CLERK    2500             -         114             30  \n",
            "29      ST_MAN    8000             -         100             50  \n",
            "30      ST_MAN    8200             -         100             50  \n",
            "31      ST_MAN    7900             -         100             50  \n",
            "32      ST_MAN    6500             -         100             50  \n",
            "33      ST_MAN    5800             -         100             50  \n",
            "34    ST_CLERK    3200             -         120             50  \n",
            "35    ST_CLERK    2700             -         120             50  \n",
            "36    ST_CLERK    2400             -         120             50  \n",
            "37    ST_CLERK    2200             -         120             50  \n",
            "38    ST_CLERK    3300             -         121             50  \n",
            "39    ST_CLERK    2800             -         121             50  \n",
            "40    ST_CLERK    2500             -         121             50  \n",
            "41    ST_CLERK    2100             -         121             50  \n",
            "42    ST_CLERK    3300             -         122             50  \n",
            "43    ST_CLERK    2900             -         122             50  \n",
            "44    ST_CLERK    2400             -         122             50  \n",
            "45    ST_CLERK    2200             -         122             50  \n",
            "46    ST_CLERK    3600             -         123             50  \n",
            "47    ST_CLERK    3200             -         123             50  \n",
            "48    ST_CLERK    2700             -         123             50  \n",
            "49    ST_CLERK    2500             -         123             50  \n"
          ]
        }
      ]
    },
    {
      "cell_type": "code",
      "source": [
        "average_=e_data['SALARY'].mean()\n",
        "average_"
      ],
      "metadata": {
        "colab": {
          "base_uri": "https://localhost:8080/"
        },
        "id": "NJGzWLmb_IRh",
        "outputId": "eb7f820c-62b7-41de-8794-03c4d01ad594"
      },
      "execution_count": null,
      "outputs": [
        {
          "output_type": "execute_result",
          "data": {
            "text/plain": [
              "6182.32"
            ]
          },
          "metadata": {},
          "execution_count": 10
        }
      ]
    },
    {
      "cell_type": "code",
      "source": [
        "highest=e_data['SALARY'].max()\n",
        "highest"
      ],
      "metadata": {
        "colab": {
          "base_uri": "https://localhost:8080/"
        },
        "id": "XmKD999PAqqM",
        "outputId": "72c02f21-0fa8-4d13-9ec9-fb206b0093f6"
      },
      "execution_count": null,
      "outputs": [
        {
          "output_type": "execute_result",
          "data": {
            "text/plain": [
              "24000"
            ]
          },
          "metadata": {},
          "execution_count": 13
        }
      ]
    },
    {
      "cell_type": "code",
      "source": [],
      "metadata": {
        "id": "9XskSbQvCwqa"
      },
      "execution_count": null,
      "outputs": []
    }
  ]
}