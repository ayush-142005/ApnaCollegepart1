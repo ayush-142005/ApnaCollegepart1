{
  "nbformat": 4,
  "nbformat_minor": 0,
  "metadata": {
    "colab": {
      "provenance": [],
      "authorship_tag": "ABX9TyNwZgXOMxW1xHbsryKKLHlK",
      "include_colab_link": true
    },
    "kernelspec": {
      "name": "python3",
      "display_name": "Python 3"
    },
    "language_info": {
      "name": "python"
    }
  },
  "cells": [
    {
      "cell_type": "markdown",
      "metadata": {
        "id": "view-in-github",
        "colab_type": "text"
      },
      "source": [
        "<a href=\"https://colab.research.google.com/github/ayush-142005/ApnaCollegepart1/blob/main/Untitled.ipynb\" target=\"_parent\"><img src=\"https://colab.research.google.com/assets/colab-badge.svg\" alt=\"Open In Colab\"/></a>"
      ]
    },
    {
      "cell_type": "code",
      "execution_count": 11,
      "metadata": {
        "colab": {
          "base_uri": "https://localhost:8080/"
        },
        "id": "Xu4PZpXOBdHJ",
        "outputId": "171f0bba-6035-48b3-b8c9-529440fd2cb4"
      },
      "outputs": [
        {
          "output_type": "stream",
          "name": "stdout",
          "text": [
            "1\n"
          ]
        }
      ],
      "source": [
        "# Question 3\n",
        "def fac(n):\n",
        "  if(n==0 or n==1):\n",
        "     return 1\n",
        "  else:\n",
        "    f=1\n",
        "    for i in range(1,n):\n",
        "        f=f*i\n",
        "        return f\n",
        "\n",
        "a=fac(5);\n",
        "print(a)"
      ]
    },
    {
      "cell_type": "code",
      "source": [
        "# Question 4\n",
        "def Palindrome(a):\n",
        "  return s==s[::-1]\n",
        "\n",
        "s=input(\"Enter the string :\")\n",
        "n=Palindrome(s)\n",
        "if s==n:\n",
        "  print(\"True\")\n",
        "else:\n",
        "  print(\"False\")\n",
        "\n"
      ],
      "metadata": {
        "colab": {
          "base_uri": "https://localhost:8080/"
        },
        "id": "GcVjb3bCCsNQ",
        "outputId": "f23aa06b-1cbf-4c87-a5d3-d88b86826d9a"
      },
      "execution_count": 13,
      "outputs": [
        {
          "output_type": "stream",
          "name": "stdout",
          "text": [
            "Enter the string :xerox\n",
            "False\n"
          ]
        }
      ]
    },
    {
      "cell_type": "code",
      "source": [
        "# Question 5\n",
        "a=10\n",
        "b=12\n",
        "c=13\n",
        "if(a>b and a>c):\n",
        "  print(\"A is greater \")\n",
        "elif(b>a and b>c):\n",
        "  print(\"B is greater\")\n",
        "elif(c>a and b<c):\n",
        "  print(\"C is greater\")\n",
        "else:\n",
        "  print(\"Equal\")\n",
        "\n"
      ],
      "metadata": {
        "colab": {
          "base_uri": "https://localhost:8080/"
        },
        "id": "Z7LA03bdF5nE",
        "outputId": "0995c08c-453c-44d9-c598-52d856ecaed9"
      },
      "execution_count": 15,
      "outputs": [
        {
          "output_type": "stream",
          "name": "stdout",
          "text": [
            "C is greater\n"
          ]
        }
      ]
    },
    {
      "cell_type": "code",
      "source": [
        "# Question 6\n",
        "def Circle(r):\n",
        "  Area = 3.14*r*r\n",
        "  return Area\n",
        "z=Circle(5);\n",
        "print(f\"the area of a circle is {z}\")"
      ],
      "metadata": {
        "colab": {
          "base_uri": "https://localhost:8080/"
        },
        "id": "Uj88a97qG2jQ",
        "outputId": "804e8e7c-0af7-4309-f499-3b3080075583"
      },
      "execution_count": 17,
      "outputs": [
        {
          "output_type": "stream",
          "name": "stdout",
          "text": [
            "the area of a circle is 78.5\n"
          ]
        }
      ]
    },
    {
      "cell_type": "code",
      "source": [
        "# Question 7\n",
        "def fib(n):\n",
        "  a=0\n",
        "  b=1\n",
        "  if(n<0):\n",
        "    print(\"Invalid\")\n",
        "  elif(n==0):\n",
        "    return 0\n",
        "  else:\n",
        "    for i in range(1,n):\n",
        "      c=a+b\n",
        "      a=b\n",
        "      b=c\n",
        "    return c\n",
        "z=fib(5);\n",
        "print(z)\n"
      ],
      "metadata": {
        "colab": {
          "base_uri": "https://localhost:8080/"
        },
        "id": "WQp1DIV8HI1V",
        "outputId": "e2083f0a-5cff-48c9-cb51-ba980b193724"
      },
      "execution_count": 21,
      "outputs": [
        {
          "output_type": "stream",
          "name": "stdout",
          "text": [
            "5\n"
          ]
        }
      ]
    },
    {
      "cell_type": "code",
      "source": [
        "# Question 8\n"
      ],
      "metadata": {
        "id": "U7jjCmAHLXsI"
      },
      "execution_count": null,
      "outputs": []
    }
  ]
}